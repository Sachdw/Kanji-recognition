{
 "cells": [
  {
   "cell_type": "code",
   "execution_count": 1,
   "metadata": {},
   "outputs": [
    {
     "name": "stderr",
     "output_type": "stream",
     "text": [
      "/usr/local/lib/python3.6/site-packages/tensorflow/python/framework/dtypes.py:516: FutureWarning: Passing (type, 1) or '1type' as a synonym of type is deprecated; in a future version of numpy, it will be understood as (type, (1,)) / '(1,)type'.\n",
      "  _np_qint8 = np.dtype([(\"qint8\", np.int8, 1)])\n",
      "/usr/local/lib/python3.6/site-packages/tensorflow/python/framework/dtypes.py:517: FutureWarning: Passing (type, 1) or '1type' as a synonym of type is deprecated; in a future version of numpy, it will be understood as (type, (1,)) / '(1,)type'.\n",
      "  _np_quint8 = np.dtype([(\"quint8\", np.uint8, 1)])\n",
      "/usr/local/lib/python3.6/site-packages/tensorflow/python/framework/dtypes.py:518: FutureWarning: Passing (type, 1) or '1type' as a synonym of type is deprecated; in a future version of numpy, it will be understood as (type, (1,)) / '(1,)type'.\n",
      "  _np_qint16 = np.dtype([(\"qint16\", np.int16, 1)])\n",
      "/usr/local/lib/python3.6/site-packages/tensorflow/python/framework/dtypes.py:519: FutureWarning: Passing (type, 1) or '1type' as a synonym of type is deprecated; in a future version of numpy, it will be understood as (type, (1,)) / '(1,)type'.\n",
      "  _np_quint16 = np.dtype([(\"quint16\", np.uint16, 1)])\n",
      "/usr/local/lib/python3.6/site-packages/tensorflow/python/framework/dtypes.py:520: FutureWarning: Passing (type, 1) or '1type' as a synonym of type is deprecated; in a future version of numpy, it will be understood as (type, (1,)) / '(1,)type'.\n",
      "  _np_qint32 = np.dtype([(\"qint32\", np.int32, 1)])\n",
      "/usr/local/lib/python3.6/site-packages/tensorflow/python/framework/dtypes.py:525: FutureWarning: Passing (type, 1) or '1type' as a synonym of type is deprecated; in a future version of numpy, it will be understood as (type, (1,)) / '(1,)type'.\n",
      "  np_resource = np.dtype([(\"resource\", np.ubyte, 1)])\n",
      "/usr/local/lib/python3.6/site-packages/tensorboard/compat/tensorflow_stub/dtypes.py:541: FutureWarning: Passing (type, 1) or '1type' as a synonym of type is deprecated; in a future version of numpy, it will be understood as (type, (1,)) / '(1,)type'.\n",
      "  _np_qint8 = np.dtype([(\"qint8\", np.int8, 1)])\n",
      "/usr/local/lib/python3.6/site-packages/tensorboard/compat/tensorflow_stub/dtypes.py:542: FutureWarning: Passing (type, 1) or '1type' as a synonym of type is deprecated; in a future version of numpy, it will be understood as (type, (1,)) / '(1,)type'.\n",
      "  _np_quint8 = np.dtype([(\"quint8\", np.uint8, 1)])\n",
      "/usr/local/lib/python3.6/site-packages/tensorboard/compat/tensorflow_stub/dtypes.py:543: FutureWarning: Passing (type, 1) or '1type' as a synonym of type is deprecated; in a future version of numpy, it will be understood as (type, (1,)) / '(1,)type'.\n",
      "  _np_qint16 = np.dtype([(\"qint16\", np.int16, 1)])\n",
      "/usr/local/lib/python3.6/site-packages/tensorboard/compat/tensorflow_stub/dtypes.py:544: FutureWarning: Passing (type, 1) or '1type' as a synonym of type is deprecated; in a future version of numpy, it will be understood as (type, (1,)) / '(1,)type'.\n",
      "  _np_quint16 = np.dtype([(\"quint16\", np.uint16, 1)])\n",
      "/usr/local/lib/python3.6/site-packages/tensorboard/compat/tensorflow_stub/dtypes.py:545: FutureWarning: Passing (type, 1) or '1type' as a synonym of type is deprecated; in a future version of numpy, it will be understood as (type, (1,)) / '(1,)type'.\n",
      "  _np_qint32 = np.dtype([(\"qint32\", np.int32, 1)])\n",
      "/usr/local/lib/python3.6/site-packages/tensorboard/compat/tensorflow_stub/dtypes.py:550: FutureWarning: Passing (type, 1) or '1type' as a synonym of type is deprecated; in a future version of numpy, it will be understood as (type, (1,)) / '(1,)type'.\n",
      "  np_resource = np.dtype([(\"resource\", np.ubyte, 1)])\n"
     ]
    }
   ],
   "source": [
    "import matplotlib.pyplot as plt\n",
    "import numpy as np\n",
    "import pandas as pd\n",
    "import seaborn as sns\n",
    "import os\n",
    "import tensorflow as tf\n",
    "\n",
    "from pathlib import Path\n",
    "\n",
    "from skimage import color\n",
    "from skimage.transform import resize\n",
    "from skimage.filters import threshold_otsu\n",
    "from skimage.filters import threshold_local\n",
    "from skimage.filters import try_all_threshold\n",
    "\n",
    "\n",
    "from matplotlib.patches import Rectangle\n",
    "from matplotlib.pyplot import figure\n",
    "\n",
    "\n",
    "\n",
    "#Seperate file containing custom functions\n",
    "from my_functions import * "
   ]
  },
  {
   "cell_type": "markdown",
   "metadata": {},
   "source": [
    "# Counting the characters"
   ]
  },
  {
   "cell_type": "markdown",
   "metadata": {},
   "source": [
    "Before we get started with trying to predict the characters, it would be useful to get an idea of how many characters we will be working with. The data set is arranged such that each individual book is a folder with two sub folders and a csv file.\n",
    "\n",
    "The two sub folders are called 'images' and 'characters'. The 'images' folder contains the actual pages from the book. The 'characters' folder contains several sub directories which correspond to individual written characters (labelled as unicode). Within each sub directory are .jpg files of the individual characters themselves. The csv files contain coordinate information about where each character image is located in each page.\n",
    "\n",
    "At the moment, we are not interested in the 'images' folders or csv files (we will come back to them). However, we can use the characters sub folders and .jpg files within them to get an initial idea of the data.\n",
    "\n",
    "By counting the amount of .jpg files in each character sub folder, we can see how many instances of specific characters appear across the books."
   ]
  },
  {
   "cell_type": "code",
   "execution_count": 2,
   "metadata": {},
   "outputs": [],
   "source": [
    "#Collect the total amount of unique characters in the books and the amount of each individual character\n",
    "directory = './all/'\n",
    "classes = []\n",
    "observations = []\n",
    "#images = []\n",
    "book_id = []\n",
    "filepaths = []\n",
    "count =[]\n",
    "\n",
    "#Traverse through each sub directory in the 'characters' folder \n",
    "#skipping the whole pages and coodinate csv files\n",
    "\n",
    "skip = [\"str-images\", \"str-coordinate\"]\n",
    "for subdir, dirs, files in os.walk(directory):\n",
    "    count = 0\n",
    "    if dirs in skip:\n",
    "            continue\n",
    "    for filename in files:\n",
    "        filepath = subdir + os.sep + filename\n",
    "        #Counting the number of instances of individual characters\n",
    "        if (filepath.endswith(\".jpg\")) & (\"images\" not in filepath):\n",
    "            count += 1\n",
    "            filepaths.append(filepath)\n",
    "            classes.append(Path(subdir).stem)\n",
    "            book_id.append(Path(subdir).parts[1])\n",
    "    "
   ]
  },
  {
   "cell_type": "code",
   "execution_count": 3,
   "metadata": {},
   "outputs": [],
   "source": [
    "book_id\n",
    "subdir\n",
    "len(filepaths)\n",
    "def checkIfDuplicates_1(listOfElems):\n",
    "    ''' Check if given list contains any duplicates '''\n",
    "    if len(listOfElems) == len(set(listOfElems)):\n",
    "        return False\n",
    "    else:\n",
    "        return True\n",
    "\n",
    "\n"
   ]
  },
  {
   "cell_type": "code",
   "execution_count": 8,
   "metadata": {},
   "outputs": [
    {
     "name": "stdout",
     "output_type": "stream",
     "text": [
      "Duplicate files in the dataset:  False\n",
      "Total number of characters:  1086326\n"
     ]
    }
   ],
   "source": [
    "print(\"Duplicate files in the dataset: \",checkIfDuplicates_1(filepaths))\n",
    "print(\"Total number of characters: \",len(filepaths))\n",
    "\n"
   ]
  },
  {
   "cell_type": "markdown",
   "metadata": {},
   "source": [
    "# Preparing the DataFrame"
   ]
  },
  {
   "cell_type": "markdown",
   "metadata": {},
   "source": [
    "Now, let's tidy up the data into a dataframe to make it more manageable for visualization purposes. In the previous step, we obtained two lists. Firstly, we will create a dataframe listing each instance of each character across each of the books. \n",
    "\n",
    "We will also create a dummy variable 'Count' in this dataframe which will make it easier for us to find the total sum of each character across all of the books later."
   ]
  },
  {
   "cell_type": "code",
   "execution_count": 10,
   "metadata": {},
   "outputs": [
    {
     "data": {
      "text/html": [
       "<div>\n",
       "<style scoped>\n",
       "    .dataframe tbody tr th:only-of-type {\n",
       "        vertical-align: middle;\n",
       "    }\n",
       "\n",
       "    .dataframe tbody tr th {\n",
       "        vertical-align: top;\n",
       "    }\n",
       "\n",
       "    .dataframe thead th {\n",
       "        text-align: right;\n",
       "    }\n",
       "</style>\n",
       "<table border=\"1\" class=\"dataframe\">\n",
       "  <thead>\n",
       "    <tr style=\"text-align: right;\">\n",
       "      <th></th>\n",
       "      <th>Book ID</th>\n",
       "      <th>Unicode</th>\n",
       "      <th>Character</th>\n",
       "      <th>File</th>\n",
       "      <th>Count</th>\n",
       "    </tr>\n",
       "  </thead>\n",
       "  <tbody>\n",
       "    <tr>\n",
       "      <th>0</th>\n",
       "      <td>100241706</td>\n",
       "      <td>U+865A</td>\n",
       "      <td>虚</td>\n",
       "      <td>./all/100241706/characters/U+865A/U+865A_10024...</td>\n",
       "      <td>1</td>\n",
       "    </tr>\n",
       "    <tr>\n",
       "      <th>1</th>\n",
       "      <td>100241706</td>\n",
       "      <td>U+865A</td>\n",
       "      <td>虚</td>\n",
       "      <td>./all/100241706/characters/U+865A/U+865A_10024...</td>\n",
       "      <td>1</td>\n",
       "    </tr>\n",
       "    <tr>\n",
       "      <th>2</th>\n",
       "      <td>100241706</td>\n",
       "      <td>U+865A</td>\n",
       "      <td>虚</td>\n",
       "      <td>./all/100241706/characters/U+865A/U+865A_10024...</td>\n",
       "      <td>1</td>\n",
       "    </tr>\n",
       "    <tr>\n",
       "      <th>3</th>\n",
       "      <td>100241706</td>\n",
       "      <td>U+865A</td>\n",
       "      <td>虚</td>\n",
       "      <td>./all/100241706/characters/U+865A/U+865A_10024...</td>\n",
       "      <td>1</td>\n",
       "    </tr>\n",
       "    <tr>\n",
       "      <th>4</th>\n",
       "      <td>100241706</td>\n",
       "      <td>U+308C</td>\n",
       "      <td>れ</td>\n",
       "      <td>./all/100241706/characters/U+308C/U+308C_10024...</td>\n",
       "      <td>1</td>\n",
       "    </tr>\n",
       "    <tr>\n",
       "      <th>5</th>\n",
       "      <td>100241706</td>\n",
       "      <td>U+308C</td>\n",
       "      <td>れ</td>\n",
       "      <td>./all/100241706/characters/U+308C/U+308C_10024...</td>\n",
       "      <td>1</td>\n",
       "    </tr>\n",
       "    <tr>\n",
       "      <th>6</th>\n",
       "      <td>100241706</td>\n",
       "      <td>U+308C</td>\n",
       "      <td>れ</td>\n",
       "      <td>./all/100241706/characters/U+308C/U+308C_10024...</td>\n",
       "      <td>1</td>\n",
       "    </tr>\n",
       "    <tr>\n",
       "      <th>7</th>\n",
       "      <td>100241706</td>\n",
       "      <td>U+308C</td>\n",
       "      <td>れ</td>\n",
       "      <td>./all/100241706/characters/U+308C/U+308C_10024...</td>\n",
       "      <td>1</td>\n",
       "    </tr>\n",
       "    <tr>\n",
       "      <th>8</th>\n",
       "      <td>100241706</td>\n",
       "      <td>U+308C</td>\n",
       "      <td>れ</td>\n",
       "      <td>./all/100241706/characters/U+308C/U+308C_10024...</td>\n",
       "      <td>1</td>\n",
       "    </tr>\n",
       "    <tr>\n",
       "      <th>9</th>\n",
       "      <td>100241706</td>\n",
       "      <td>U+308C</td>\n",
       "      <td>れ</td>\n",
       "      <td>./all/100241706/characters/U+308C/U+308C_10024...</td>\n",
       "      <td>1</td>\n",
       "    </tr>\n",
       "    <tr>\n",
       "      <th>10</th>\n",
       "      <td>100241706</td>\n",
       "      <td>U+308C</td>\n",
       "      <td>れ</td>\n",
       "      <td>./all/100241706/characters/U+308C/U+308C_10024...</td>\n",
       "      <td>1</td>\n",
       "    </tr>\n",
       "    <tr>\n",
       "      <th>11</th>\n",
       "      <td>100241706</td>\n",
       "      <td>U+308C</td>\n",
       "      <td>れ</td>\n",
       "      <td>./all/100241706/characters/U+308C/U+308C_10024...</td>\n",
       "      <td>1</td>\n",
       "    </tr>\n",
       "    <tr>\n",
       "      <th>12</th>\n",
       "      <td>100241706</td>\n",
       "      <td>U+308C</td>\n",
       "      <td>れ</td>\n",
       "      <td>./all/100241706/characters/U+308C/U+308C_10024...</td>\n",
       "      <td>1</td>\n",
       "    </tr>\n",
       "    <tr>\n",
       "      <th>13</th>\n",
       "      <td>100241706</td>\n",
       "      <td>U+308C</td>\n",
       "      <td>れ</td>\n",
       "      <td>./all/100241706/characters/U+308C/U+308C_10024...</td>\n",
       "      <td>1</td>\n",
       "    </tr>\n",
       "    <tr>\n",
       "      <th>14</th>\n",
       "      <td>100241706</td>\n",
       "      <td>U+308C</td>\n",
       "      <td>れ</td>\n",
       "      <td>./all/100241706/characters/U+308C/U+308C_10024...</td>\n",
       "      <td>1</td>\n",
       "    </tr>\n",
       "    <tr>\n",
       "      <th>15</th>\n",
       "      <td>100241706</td>\n",
       "      <td>U+308C</td>\n",
       "      <td>れ</td>\n",
       "      <td>./all/100241706/characters/U+308C/U+308C_10024...</td>\n",
       "      <td>1</td>\n",
       "    </tr>\n",
       "    <tr>\n",
       "      <th>16</th>\n",
       "      <td>100241706</td>\n",
       "      <td>U+308C</td>\n",
       "      <td>れ</td>\n",
       "      <td>./all/100241706/characters/U+308C/U+308C_10024...</td>\n",
       "      <td>1</td>\n",
       "    </tr>\n",
       "    <tr>\n",
       "      <th>17</th>\n",
       "      <td>100241706</td>\n",
       "      <td>U+308C</td>\n",
       "      <td>れ</td>\n",
       "      <td>./all/100241706/characters/U+308C/U+308C_10024...</td>\n",
       "      <td>1</td>\n",
       "    </tr>\n",
       "    <tr>\n",
       "      <th>18</th>\n",
       "      <td>100241706</td>\n",
       "      <td>U+308C</td>\n",
       "      <td>れ</td>\n",
       "      <td>./all/100241706/characters/U+308C/U+308C_10024...</td>\n",
       "      <td>1</td>\n",
       "    </tr>\n",
       "    <tr>\n",
       "      <th>19</th>\n",
       "      <td>100241706</td>\n",
       "      <td>U+308C</td>\n",
       "      <td>れ</td>\n",
       "      <td>./all/100241706/characters/U+308C/U+308C_10024...</td>\n",
       "      <td>1</td>\n",
       "    </tr>\n",
       "  </tbody>\n",
       "</table>\n",
       "</div>"
      ],
      "text/plain": [
       "      Book ID Unicode Character  \\\n",
       "0   100241706  U+865A         虚   \n",
       "1   100241706  U+865A         虚   \n",
       "2   100241706  U+865A         虚   \n",
       "3   100241706  U+865A         虚   \n",
       "4   100241706  U+308C         れ   \n",
       "5   100241706  U+308C         れ   \n",
       "6   100241706  U+308C         れ   \n",
       "7   100241706  U+308C         れ   \n",
       "8   100241706  U+308C         れ   \n",
       "9   100241706  U+308C         れ   \n",
       "10  100241706  U+308C         れ   \n",
       "11  100241706  U+308C         れ   \n",
       "12  100241706  U+308C         れ   \n",
       "13  100241706  U+308C         れ   \n",
       "14  100241706  U+308C         れ   \n",
       "15  100241706  U+308C         れ   \n",
       "16  100241706  U+308C         れ   \n",
       "17  100241706  U+308C         れ   \n",
       "18  100241706  U+308C         れ   \n",
       "19  100241706  U+308C         れ   \n",
       "\n",
       "                                                 File  Count  \n",
       "0   ./all/100241706/characters/U+865A/U+865A_10024...      1  \n",
       "1   ./all/100241706/characters/U+865A/U+865A_10024...      1  \n",
       "2   ./all/100241706/characters/U+865A/U+865A_10024...      1  \n",
       "3   ./all/100241706/characters/U+865A/U+865A_10024...      1  \n",
       "4   ./all/100241706/characters/U+308C/U+308C_10024...      1  \n",
       "5   ./all/100241706/characters/U+308C/U+308C_10024...      1  \n",
       "6   ./all/100241706/characters/U+308C/U+308C_10024...      1  \n",
       "7   ./all/100241706/characters/U+308C/U+308C_10024...      1  \n",
       "8   ./all/100241706/characters/U+308C/U+308C_10024...      1  \n",
       "9   ./all/100241706/characters/U+308C/U+308C_10024...      1  \n",
       "10  ./all/100241706/characters/U+308C/U+308C_10024...      1  \n",
       "11  ./all/100241706/characters/U+308C/U+308C_10024...      1  \n",
       "12  ./all/100241706/characters/U+308C/U+308C_10024...      1  \n",
       "13  ./all/100241706/characters/U+308C/U+308C_10024...      1  \n",
       "14  ./all/100241706/characters/U+308C/U+308C_10024...      1  \n",
       "15  ./all/100241706/characters/U+308C/U+308C_10024...      1  \n",
       "16  ./all/100241706/characters/U+308C/U+308C_10024...      1  \n",
       "17  ./all/100241706/characters/U+308C/U+308C_10024...      1  \n",
       "18  ./all/100241706/characters/U+308C/U+308C_10024...      1  \n",
       "19  ./all/100241706/characters/U+308C/U+308C_10024...      1  "
      ]
     },
     "execution_count": 10,
     "metadata": {},
     "output_type": "execute_result"
    }
   ],
   "source": [
    "#Prepare a dataframe to view the total character counts\n",
    "my_data = pd.DataFrame(columns = [\"Book ID\",\"Unicode\",\"File\",\"Count\"])\n",
    "\n",
    "#Add the data as columns to the data frame\n",
    "classes = pd.Series(classes)\n",
    "book_id = pd.Series(book_id)\n",
    "image_files = pd.Series(filepaths)\n",
    "\n",
    "observations = pd.Series(np.ones(len(filepaths)))\n",
    "\n",
    "\n",
    "my_data['Unicode'] = classes\n",
    "my_data['Book ID'] = book_id\n",
    "my_data['File'] = image_files\n",
    "\n",
    "my_data['Count'] = observations.astype(int)\n",
    "\n",
    "my_data_literal = []\n",
    "\n",
    "for i in range(0,my_data.shape[0]):\n",
    "    unicode = classes[i]\n",
    "    my_data_literal.append(chr(int(unicode[2:], 16)))\n",
    "    \n",
    "#Add the literal characters as a column to the data frame\n",
    "my_data.insert(2, \"Character\", my_data_literal, True) \n",
    "\n",
    "#Preview the final data frame\n",
    "my_data.head(20)\n",
    "\n"
   ]
  },
  {
   "cell_type": "code",
   "execution_count": 12,
   "metadata": {},
   "outputs": [
    {
     "name": "stdout",
     "output_type": "stream",
     "text": [
      "Total number of characters: 1086326\n",
      "Shape of the dataframe:  (1086326, 5)\n"
     ]
    }
   ],
   "source": [
    "#View the total number of individual characters in the data set\n",
    "print(\"Total number of characters:\",my_data['Count'].sum())\n",
    "\n",
    "#View the shape of the dataframe\n",
    "print(\"Shape of the dataframe: \",my_data.shape)\n",
    "\n",
    "#Save the dataframe as a csv\n",
    "my_data.to_csv('kuzushiji_raw.csv', index=False) "
   ]
  },
  {
   "cell_type": "markdown",
   "metadata": {},
   "source": [
    "---\n",
    "At the moment the dataframe has seperate rows for the same characters that appear across multiple books. In the next step, we will create a seperate dataframe where the number of character appearances are summed together across all books.\n",
    "\n",
    "---"
   ]
  },
  {
   "cell_type": "code",
   "execution_count": 16,
   "metadata": {},
   "outputs": [
    {
     "data": {
      "text/html": [
       "<div>\n",
       "<style scoped>\n",
       "    .dataframe tbody tr th:only-of-type {\n",
       "        vertical-align: middle;\n",
       "    }\n",
       "\n",
       "    .dataframe tbody tr th {\n",
       "        vertical-align: top;\n",
       "    }\n",
       "\n",
       "    .dataframe thead th {\n",
       "        text-align: right;\n",
       "    }\n",
       "</style>\n",
       "<table border=\"1\" class=\"dataframe\">\n",
       "  <thead>\n",
       "    <tr style=\"text-align: right;\">\n",
       "      <th></th>\n",
       "      <th>Unicode</th>\n",
       "      <th>Character</th>\n",
       "      <th>Count</th>\n",
       "    </tr>\n",
       "  </thead>\n",
       "  <tbody>\n",
       "    <tr>\n",
       "      <th>0</th>\n",
       "      <td>U+0031</td>\n",
       "      <td>1</td>\n",
       "      <td>2</td>\n",
       "    </tr>\n",
       "    <tr>\n",
       "      <th>1</th>\n",
       "      <td>U+0032</td>\n",
       "      <td>2</td>\n",
       "      <td>4</td>\n",
       "    </tr>\n",
       "    <tr>\n",
       "      <th>2</th>\n",
       "      <td>U+0034</td>\n",
       "      <td>4</td>\n",
       "      <td>1</td>\n",
       "    </tr>\n",
       "    <tr>\n",
       "      <th>3</th>\n",
       "      <td>U+0036</td>\n",
       "      <td>6</td>\n",
       "      <td>1</td>\n",
       "    </tr>\n",
       "    <tr>\n",
       "      <th>4</th>\n",
       "      <td>U+0039</td>\n",
       "      <td>9</td>\n",
       "      <td>3</td>\n",
       "    </tr>\n",
       "    <tr>\n",
       "      <th>5</th>\n",
       "      <td>U+003F</td>\n",
       "      <td>?</td>\n",
       "      <td>1</td>\n",
       "    </tr>\n",
       "    <tr>\n",
       "      <th>6</th>\n",
       "      <td>U+2000B</td>\n",
       "      <td>𠀋</td>\n",
       "      <td>16</td>\n",
       "    </tr>\n",
       "    <tr>\n",
       "      <th>7</th>\n",
       "      <td>U+20D45</td>\n",
       "      <td>𠵅</td>\n",
       "      <td>10</td>\n",
       "    </tr>\n",
       "    <tr>\n",
       "      <th>8</th>\n",
       "      <td>U+2123D</td>\n",
       "      <td>𡈽</td>\n",
       "      <td>1</td>\n",
       "    </tr>\n",
       "    <tr>\n",
       "      <th>9</th>\n",
       "      <td>U+22999</td>\n",
       "      <td>𢦙</td>\n",
       "      <td>4</td>\n",
       "    </tr>\n",
       "    <tr>\n",
       "      <th>10</th>\n",
       "      <td>U+22CE3</td>\n",
       "      <td>𢳣</td>\n",
       "      <td>1</td>\n",
       "    </tr>\n",
       "    <tr>\n",
       "      <th>11</th>\n",
       "      <td>U+231C3</td>\n",
       "      <td>𣇃</td>\n",
       "      <td>1</td>\n",
       "    </tr>\n",
       "    <tr>\n",
       "      <th>12</th>\n",
       "      <td>U+2324A</td>\n",
       "      <td>𣉊</td>\n",
       "      <td>1</td>\n",
       "    </tr>\n",
       "    <tr>\n",
       "      <th>13</th>\n",
       "      <td>U+233D0</td>\n",
       "      <td>𣏐</td>\n",
       "      <td>1</td>\n",
       "    </tr>\n",
       "    <tr>\n",
       "      <th>14</th>\n",
       "      <td>U+23D0E</td>\n",
       "      <td>𣴎</td>\n",
       "      <td>1</td>\n",
       "    </tr>\n",
       "    <tr>\n",
       "      <th>15</th>\n",
       "      <td>U+241C6</td>\n",
       "      <td>𤇆</td>\n",
       "      <td>2</td>\n",
       "    </tr>\n",
       "    <tr>\n",
       "      <th>16</th>\n",
       "      <td>U+242CE</td>\n",
       "      <td>𤋎</td>\n",
       "      <td>2</td>\n",
       "    </tr>\n",
       "    <tr>\n",
       "      <th>17</th>\n",
       "      <td>U+2437D</td>\n",
       "      <td>𤍽</td>\n",
       "      <td>1</td>\n",
       "    </tr>\n",
       "    <tr>\n",
       "      <th>18</th>\n",
       "      <td>U+24E30</td>\n",
       "      <td>𤸰</td>\n",
       "      <td>3</td>\n",
       "    </tr>\n",
       "    <tr>\n",
       "      <th>19</th>\n",
       "      <td>U+24E60</td>\n",
       "      <td>𤹠</td>\n",
       "      <td>1</td>\n",
       "    </tr>\n",
       "  </tbody>\n",
       "</table>\n",
       "</div>"
      ],
      "text/plain": [
       "    Unicode Character  Count\n",
       "0    U+0031         1      2\n",
       "1    U+0032         2      4\n",
       "2    U+0034         4      1\n",
       "3    U+0036         6      1\n",
       "4    U+0039         9      3\n",
       "5    U+003F         ?      1\n",
       "6   U+2000B         𠀋     16\n",
       "7   U+20D45         𠵅     10\n",
       "8   U+2123D         𡈽      1\n",
       "9   U+22999         𢦙      4\n",
       "10  U+22CE3         𢳣      1\n",
       "11  U+231C3         𣇃      1\n",
       "12  U+2324A         𣉊      1\n",
       "13  U+233D0         𣏐      1\n",
       "14  U+23D0E         𣴎      1\n",
       "15  U+241C6         𤇆      2\n",
       "16  U+242CE         𤋎      2\n",
       "17  U+2437D         𤍽      1\n",
       "18  U+24E30         𤸰      3\n",
       "19  U+24E60         𤹠      1"
      ]
     },
     "execution_count": 16,
     "metadata": {},
     "output_type": "execute_result"
    }
   ],
   "source": [
    "#Group the characters by their unicodes to get the total number of apperances for each character across all books\n",
    "by_kanji = my_data.groupby([\"Unicode\"])[\"Count\"].sum()\n",
    "\n",
    "#Seperate the characters and counts into lists\n",
    "unicodes = by_kanji.index.values.tolist()\n",
    "total_observations = by_kanji.tolist()\n",
    "\n",
    "#Create a new dataframe\n",
    "total_df = pd.DataFrame()\n",
    "total_df.insert(loc=0, column='Unicode', value=unicodes)\n",
    "\n",
    "#Create a list to store the literal characters\n",
    "character_literal = []\n",
    "\n",
    "#Convert from unicode to literal characters\n",
    "for i in range(0,len(unicodes)):\n",
    "    uni = unicodes[i]\n",
    "    character_literal.append(chr(int(uni[2:], 16)))\n",
    "    \n",
    "#Add the literal characters as a column to the data frame\n",
    "total_df.insert(1, \"Character\", character_literal, True) \n",
    "\n",
    "#Add the counts of each character \n",
    "total_df.insert(2,\"Count\",total_observations)\n",
    "\n",
    "#Save the new dataframe as a csv\n",
    "total_df.to_csv('kuzushiji_grouped_by_character.csv', index=False) \n",
    "\n",
    "#Preview the new dataframe\n",
    "total_df.head(20)"
   ]
  },
  {
   "cell_type": "markdown",
   "metadata": {},
   "source": [
    "# Inspecting the data"
   ]
  },
  {
   "cell_type": "markdown",
   "metadata": {},
   "source": [
    "Now that we have created a dataframe with the total number of character appearances across all books, let's inspect the data to get a better idea of its characteristics. "
   ]
  },
  {
   "cell_type": "code",
   "execution_count": 18,
   "metadata": {},
   "outputs": [
    {
     "name": "stdout",
     "output_type": "stream",
     "text": [
      "Shape of dataframe: (4328, 3)\n",
      "Total characters across all texts: 1086326\n"
     ]
    }
   ],
   "source": [
    "#Shape of the dataframe\n",
    "print(\"Shape of dataframe: \"+str(total_df.shape))\n",
    "total_char = total_df['Count'].sum()\n",
    "print(\"Total characters across all texts: \"+str(total_char))"
   ]
  },
  {
   "cell_type": "markdown",
   "metadata": {},
   "source": [
    "---\n",
    "We can see that the dataframe has 4328 rows which means that there are 4328 unique characters which appear across the texts. We can also see that 1,086,326 characters appear across the texts in total. \n",
    "\n",
    "---"
   ]
  },
  {
   "cell_type": "code",
   "execution_count": 20,
   "metadata": {},
   "outputs": [
    {
     "name": "stdout",
     "output_type": "stream",
     "text": [
      "   Unicode Character  Count\n",
      "91  U+306E         の  41293\n",
      "\n",
      "The most commonly occuring character accounts for: 3.801% of the total observations.\n"
     ]
    }
   ],
   "source": [
    "#Checking to find the most commonly occuring character\n",
    "most_common = total_df[total_df[\"Count\"] == total_df['Count'].max()]\n",
    "print(most_common)\n",
    "\n",
    "rate_of_freq = round(float(most_common['Count']/total_char),5)*100\n",
    "\n",
    "print(f\"\\nThe most commonly occuring character accounts for: {rate_of_freq}% of the total observations.\")\n",
    "\n"
   ]
  },
  {
   "cell_type": "markdown",
   "metadata": {},
   "source": [
    "---\n",
    "We can see that the most commonly occuring character の occurs 41,293 times in the data set, which accounts for about 3.8% of the total observations. In modern Japanese this charater is used for a range of different grammatical purposes including: \n",
    "\n",
    "Ownership: \n",
    "   \"this is <b>my</b> computer.\"\n",
    "   \"He is Luke<b>'s</b> brother.\"\n",
    "\n",
    "As an indefinate pronoun:\n",
    "    \"Would you prefer the red <b>one</b>, or the blue <b>one</b>?\"\n",
    "\n",
    "As a prepositional word, similar to the English word 'of':\n",
    "\"The bank <b>of</b> London\"\n",
    "\n",
    "---"
   ]
  },
  {
   "cell_type": "code",
   "execution_count": 21,
   "metadata": {},
   "outputs": [
    {
     "data": {
      "text/plain": [
       "<AxesSubplot:>"
      ]
     },
     "execution_count": 21,
     "metadata": {},
     "output_type": "execute_result"
    },
    {
     "data": {
      "image/png": "[encoded data removed]",
      "text/plain": [
       "<Figure size 432x288 with 1 Axes>"
      ]
     },
     "metadata": {
      "needs_background": "light"
     },
     "output_type": "display_data"
    }
   ],
   "source": [
    "#Frequency plot of the full data set\n",
    "total_df['Count'].value_counts().plot(kind ='bar')"
   ]
  },
  {
   "cell_type": "markdown",
   "metadata": {},
   "source": [
    "---\n",
    "Due to the large number of classes, the above plot is difficult to interpret, but it alludes to problem with this data set. We can see from this plot that while some classes have a large amount of observations, the majority of classes have very few observations. Let's explore this further.\n",
    "\n",
    "---"
   ]
  },
  {
   "cell_type": "code",
   "execution_count": 22,
   "metadata": {},
   "outputs": [
    {
     "name": "stdout",
     "output_type": "stream",
     "text": [
      "              Count\n",
      "count   4328.000000\n",
      "mean     250.999538\n",
      "std     1851.491931\n",
      "min        1.000000\n",
      "25%        2.000000\n",
      "50%       10.000000\n",
      "75%       53.000000\n",
      "max    41293.000000\n",
      "\n",
      "Number of characters with 1 or fewer observations: 790\n",
      "This makes up: 18.25% of the classes\n",
      "\n",
      "Number of characters with 100 or fewer observations: 3578\n",
      "This makes up: 82.67% of the classes\n",
      "\n",
      "Number of characters with 2000 or more observations: 77\n",
      "This makes up: 1.78% of the classes\n",
      "\n",
      "Number of characters with 30000 or more observations: 4\n",
      "This makes up: 0.09% of the classes\n"
     ]
    }
   ],
   "source": [
    "#printing summary statistics\n",
    "print(total_df.describe())\n",
    "\n",
    "\n",
    "#Investigating the numbers of observations in the classes\n",
    "total_less_than(1,total_df)\n",
    "\n",
    "total_less_than(100,total_df)\n",
    "\n",
    "total_greater_than(2000,total_df)\n",
    "total_greater_than(30000,total_df)\n"
   ]
  },
  {
   "cell_type": "code",
   "execution_count": 40,
   "metadata": {},
   "outputs": [
    {
     "name": "stdout",
     "output_type": "stream",
     "text": [
      "    Unicode Character  Count\n",
      "91   U+306E         の  41293\n",
      "88   U+306B         に  40179\n",
      "68   U+3057         し  37747\n",
      "83   U+3066         て  32161\n",
      "85   U+3068         と  28899\n",
      "56   U+304B         か  26894\n",
      "92   U+306F         は  26120\n",
      "126  U+3092         を  25829\n",
      "119  U+308A         り  24447\n",
      "87   U+306A         な  24157\n",
      "120  U+308B         る  20683\n",
      "111  U+3082         も  20623\n",
      "52   U+3044         い  18389\n",
      "76   U+305F         た  18207\n",
      "118  U+3089         ら  16582\n",
      "60   U+304F         く  16242\n",
      "58   U+304D         き  14549\n",
      "121  U+308C         れ  13894\n",
      "107  U+307E         ま  13590\n",
      "101  U+3078         へ  12797\n",
      "\n",
      "Difference between the most frequent and 20th most frequent:  28496\n"
     ]
    }
   ],
   "source": [
    "#Investigating the top 20 characters with the highest amount of observations\n",
    "top_20 = total_df.nlargest(20,['Count'])\n",
    "print(top_20)\n",
    "\n",
    "#The difference in obsevations between the most frequent and the 20th most frequent\n",
    "print(\"\\nDifference between the most frequent and 20th most frequent: \",(top_20['Count'].max())-(top_20['Count'].min()))"
   ]
  },
  {
   "cell_type": "markdown",
   "metadata": {},
   "source": [
    "Here, we have printed the top 20 most frequent characters in the data set. One thing to note is that all of the characters in the top twenty are \"Hiragana\" characters. Hiragana characters are used in modern Japanese to write words phonetically and frequently serve grammatical functions such as distinguising a sentence's subject, object, and determining if a sentence is a question or statement.\n",
    "\n",
    "Hiragana characters are phonetic, and distinct from \"Kanji\" characters which are ideographic and represent specific ideas/concepts/words. It is therefore not surprising that the top 20 most frequent characters are all Hiragana characters.\n",
    "\n",
    "We can see that the difference between the most frequent character, の and the 20th most frequent character, へ is 28,496. This demonstrates a tendency to see a rapid drop in character frequency. Below, is a plot showing the frequency of the top 20 most frequent characters visually."
   ]
  },
  {
   "cell_type": "code",
   "execution_count": 41,
   "metadata": {},
   "outputs": [
    {
     "data": {
      "text/plain": [
       "<Figure size 1536x1024 with 0 Axes>"
      ]
     },
     "metadata": {},
     "output_type": "display_data"
    },
    {
     "data": {
      "image/png": "[encoded data removed]",
      "text/plain": [
       "<Figure size 864x576 with 1 Axes>"
      ]
     },
     "metadata": {
      "needs_background": "light"
     },
     "output_type": "display_data"
    }
   ],
   "source": [
    "#Plot the top 20 most frequent characters by the amount of observations\n",
    "figure(num=None, dpi=256, facecolor='w', edgecolor='r')\n",
    "plt.figure(figsize=(12, 8))\n",
    "top_20_plot = sns.barplot(x = top_20['Unicode'], y = top_20['Count'])\n",
    "\n",
    "#Adjust the visual parameters of the plot\n",
    "top_20_plot.axes.set_title(\"Plot of the top 20 most frequent characters\",fontsize=25)\n",
    "top_20_plot.set_xlabel(\"Character (Unicode)\",fontsize=18)\n",
    "top_20_plot.set_ylabel(\"Number of Observations\",fontsize=18)\n",
    "top_20_plot.tick_params(labelsize=12)\n",
    "plt.setp(top_20_plot.get_xticklabels(), rotation=45)\n",
    "plt.savefig('top_20_plot.png')\n",
    "\n",
    "plt.show()"
   ]
  },
  {
   "cell_type": "markdown",
   "metadata": {},
   "source": [
    "We will now inspect the inter quartile range visually. We can see abover that in terms of character counts, the 75th percentile of character frequency was 53, and the 25th percentile was 2. So we will isolate and investigate the character classes which had between 2 and 53 observations."
   ]
  },
  {
   "cell_type": "code",
   "execution_count": 42,
   "metadata": {},
   "outputs": [
    {
     "name": "stdout",
     "output_type": "stream",
     "text": [
      "     Unicode Character  Count\n",
      "179   U+30D5         フ     53\n",
      "4059  U+9945         饅     53\n",
      "629   U+537F         卿     53\n",
      "287   U+4E7E         乾     53\n",
      "1036  U+5BA4         室     53\n",
      "3807  U+9285         銅     53\n",
      "1611  U+653F         政     53\n",
      "3560  U+8CCA         賊     53\n",
      "3253  U+86C7         蛇     53\n",
      "1401  U+616E         慮     53\n",
      "3937  U+96D1         雑     53\n",
      "495   U+518A         冊     52\n",
      "2302  U+732B         猫     52\n",
      "3744  U+90E1         郡     52\n",
      "3928  U+96C1         雁     52\n",
      "3568  U+8CE2         賢     52\n",
      "3969  U+9759         静     52\n",
      "2554  U+796D         祭     52\n",
      "3678  U+8FF0         述     52\n",
      "853   U+5805         堅     52\n",
      "\n",
      "Total amount of characters in the IQR:  32446\n",
      "\n",
      "Total number of unique characters in the IQR: 2459\n",
      "\n",
      "Number of characters with 53 observations: 11\n",
      "This makes up: 0.3% of the classes\n",
      "\n",
      "Number of characters with 2 observations: 388\n",
      "This makes up: 9.0% of the classes\n"
     ]
    }
   ],
   "source": [
    "#Visualizing the inter quartile range\n",
    "\n",
    "#Isolate the classes with less than 53 and more than 2 observations\n",
    "top_iqr = total_df['Count'] <= 53\n",
    "bottom_iqr = total_df['Count'] >= 2\n",
    "iqr = total_df[top_iqr & bottom_iqr]\n",
    "\n",
    "#Sort the values\n",
    "iqr = iqr.sort_values(['Count'],ascending=False)\n",
    "\n",
    "#Preview the IQR\n",
    "print(iqr.head(20))\n",
    "print(\"\\nTotal amount of characters in the IQR: \",iqr['Count'].sum())\n",
    "print(\"\\nTotal number of unique characters in the IQR: \"+str(iqr.shape[0]))\n",
    "\n",
    "total_equal_to(53,total_df)\n",
    "total_equal_to(2,total_df)\n",
    "\n",
    "#Save a seperate dataframe with only the file lists of characters in the iqr\n",
    "iqr_raw = my_data[my_data.Unicode.isin(iqr['Unicode'])]\n",
    "iqr_raw.to_csv('iqr_raw.csv', index=False) "
   ]
  },
  {
   "cell_type": "markdown",
   "metadata": {},
   "source": [
    "---\n",
    "We can see that the interquartile range consists of 2,459 different classes. Unlike the top 20 most frequent characters, we can see by previewing 20 of the characters in the interquartile range that 19 of them are Kanji characters (which are ideographic and represent words/concepts rather than just sounds). The one exception is the first character in the preview above: \"フ\"　which is a katakana character mostly used in modern Japanese for the purpose of writing foreign loan words. \n",
    "\n",
    "Visualizing the interquartile range in terms of character frequency in a clearly understandable manner poses a challenge. To overcome this, we will group the classes by the number of observations they have, and plot the number of observations, by the number of classes with that number of observations.\n",
    "\n",
    "For example, there are 11 classes that have 53 observations, and 388 classes that have 2 observations. We will plot this information for each number of observations between 2 and 53.\n",
    "\n",
    "---"
   ]
  },
  {
   "cell_type": "code",
   "execution_count": 47,
   "metadata": {},
   "outputs": [
    {
     "data": {
      "text/plain": [
       "<Figure size 1536x1024 with 0 Axes>"
      ]
     },
     "metadata": {},
     "output_type": "display_data"
    },
    {
     "data": {
      "image/png": "[encoded data removed]",
      "text/plain": [
       "<Figure size 864x576 with 1 Axes>"
      ]
     },
     "metadata": {
      "needs_background": "light"
     },
     "output_type": "display_data"
    }
   ],
   "source": [
    "#Group the classes by the amount of observations, showing us how many classes had x observations.\n",
    "iqr_class_counts = iqr['Count'].value_counts()\n",
    "iqr_counts = iqr_class_counts.index.values.tolist()\n",
    "iqr_num_of_classes = iqr_class_counts.tolist()\n",
    "\n",
    "#Create a plot to visualize the amount of observations each class has within the inter quartile range.\n",
    "\n",
    "figure(num=None, dpi=256, facecolor='w', edgecolor='r')\n",
    "plt.figure(figsize=(12, 8))\n",
    "iqr_plot = sns.barplot(x = iqr_num_of_classes, y = iqr_counts, orient='h')\n",
    "\n",
    "#Adjust the visual parameters of the plot\n",
    "iqr_plot.axes.set_title(\"Number of characters in the IQR with a given number of observations\",fontsize=20)\n",
    "iqr_plot.set_xlabel(\"Number of Characters\",fontsize=15)\n",
    "iqr_plot.set_ylabel(\"Number of Observations\",fontsize=15)\n",
    "iqr_plot.tick_params(labelsize=9)\n",
    "plt.savefig('IQR_characters_and_observations.png')\n",
    "\n",
    "plt.show()"
   ]
  },
  {
   "cell_type": "markdown",
   "metadata": {},
   "source": [
    "---\n",
    "This reveals the unbalanced nature of the data. We can see that there are 388 characters with only 2 observations, approximately 250 characters with 3 observations, and appoximately 200 characters with only 4 observations.\n",
    "\n",
    "This trend continues up until around 15 observations, where the amount of characters, with 15 observations or more, drops and remains below 50, with only 11 characters having 53 observations. We can see below that 1669 characters have 15 or less observations and 790 characters have 15 or more.\n"
   ]
  },
  {
   "cell_type": "code",
   "execution_count": 46,
   "metadata": {},
   "outputs": [
    {
     "name": "stdout",
     "output_type": "stream",
     "text": [
      "Number of classes with 15 observations or more: 790\n",
      "Number of classes with less than 15 observations: 1669\n"
     ]
    }
   ],
   "source": [
    "#Investigate how many classes in the IQR have 15 observations or more, and how many have less than 15 observations\n",
    "iqr_freq = iqr.groupby('Count')['Unicode'].size()\n",
    "iqr_class_counts = iqr['Count'].value_counts()\n",
    "\n",
    "above_or_equal_to_15 = sum(iqr_class_counts.values[iqr_class_counts.index.values>=15])\n",
    "below_15 = sum(iqr_class_counts.values[iqr_class_counts.index.values<15])\n",
    "\n",
    "print(f\"Number of classes with 15 observations or more: {above_or_equal_to_15}\")\n",
    "print(f\"Number of classes with less than 15 observations: {below_15}\")\n",
    "\n"
   ]
  },
  {
   "cell_type": "markdown",
   "metadata": {},
   "source": [
    "## Conclusion from examining the data\n",
    "\n",
    "Examining the summary statistics and plots above, we can see that the data is highly unbalanced. While the most frequently occuring character (の) has 41,293 observations, out of the 4,328 characters, 790 of them have only 1 observation (making up 18.25% of the total unique characters). \n",
    "\n",
    "Additionally 75% of the unique characters have less than 53 observations. By examining the interquartile range closely, we can also see that 790 characters within the interquartile range have less than 15 observations. When we consider this in combination with the 790 characters with only 1 observation, 1,580 out of the 4,328 unique characters (or approximately 36.51%) have less than 15 observations.\n",
    "\n",
    "Only 1.78% of the unique characters have 2000 or more observations, with 0.69% of the characters having 10,000 or more observations.\n",
    "\n",
    "This poses an interesting challenge for the problem. Firstly we will need to consider the implications of working with the full data set as it is. \n",
    "\n",
    "As there are 790 character classes with only a single observation, this poses a problem as we would be unable to make sure that these classes are represented in both the training and testing set at the same time. A possible solution would be to generate synthetic data through methods such as image augmentation, and using this synthetic data to train our model, and then testing the model's performance on the real example. However in such a case we would run the risk of overfitting our models as we would be using data in our test set to generate the sythetic data which the model would be trained on. Other ideas would be to only include these classes in our training set, however this would not be particularly useful as we wouldn't be able to test our model's performance on these characters. For these reasons, the character classes with only one observation will not be included when we are building our actual models.\n",
    "\n",
    "The other thing to consider is the implications for when it comes to balancing our data. As we saw above, we have 388 character classes with only 2 observations each. On the other hand, our most frequent character の has 41,293 observations. Typically when we run a balancing algorithm, the algorithm will produce enough synthetic samples such that the minority classes have the same number of observations as the majority class. However if we consider a case where both the test and training set are assigned approximately 20,000 instances of の each, the amount of computing power required to balance the 4,328 total character classes in the training set would be very demanding. \n",
    "\n",
    "For this reason, for the purpose of model building, we will only be working with the classes included in the interquartile range. While it would be ideal to work with all classes in the data set, the IQR reflects the key characteristics of the dataset as a whole (it's highly imbalanced nature) and also primarily consists of less common Kanji characters (as opposed to the frequently occuring Hiragana characters).\n",
    "\n",
    "---\n"
   ]
  },
  {
   "cell_type": "code",
   "execution_count": null,
   "metadata": {},
   "outputs": [],
   "source": [
    "\n"
   ]
  }
 ],
 "metadata": {
  "kernelspec": {
   "display_name": "Python 3",
   "language": "python",
   "name": "python3"
  },
  "language_info": {
   "codemirror_mode": {
    "name": "ipython",
    "version": 3
   },
   "file_extension": ".py",
   "mimetype": "text/x-python",
   "name": "python",
   "nbconvert_exporter": "python",
   "pygments_lexer": "ipython3",
   "version": "3.6.8"
  }
 },
 "nbformat": 4,
 "nbformat_minor": 4
}
