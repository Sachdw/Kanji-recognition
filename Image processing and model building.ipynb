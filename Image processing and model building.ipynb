{
 "cells": [
  {
   "cell_type": "code",
   "execution_count": 175,
   "metadata": {},
   "outputs": [],
   "source": [
    "import matplotlib.pyplot as plt\n",
    "import numpy as np\n",
    "import pandas as pd\n",
    "import tensorflow as tf\n",
    "import os\n",
    "from tensorflow import keras\n",
    "\n",
    "#Tools for balancing data\n",
    "from keras.preprocessing.image import ImageDataGenerator\n",
    "from keras.preprocessing import image\n",
    "from imblearn.over_sampling import SMOTE\n",
    "from imblearn.over_sampling import RandomOverSampler\n",
    "\n",
    "#Tools for building neural networks\n",
    "from keras.models import Sequential\n",
    "from keras.layers import Conv2D\n",
    "\n",
    "#Tools for processing the images\n",
    "from skimage import color\n",
    "from skimage.transform import resize\n",
    "from skimage.filters import threshold_otsu\n",
    "from skimage.filters import threshold_local\n",
    "from skimage.filters import try_all_threshold\n",
    "\n",
    "#Tools for preparing train, test, and validation sets\n",
    "from sklearn.utils import resample\n",
    "from sklearn.preprocessing import LabelEncoder\n",
    "from sklearn.model_selection import train_test_split\n",
    "\n",
    "\n",
    "\n",
    "#Seperate file containing custom functions\n",
    "from my_functions import * "
   ]
  },
  {
   "cell_type": "markdown",
   "metadata": {},
   "source": [
    "# Preparing the Training, Testing, and Validation Sets"
   ]
  },
  {
   "cell_type": "markdown",
   "metadata": {},
   "source": [
    "In this step we will split the dataset into a training and a testing set, and split the training set again into a training and validation set."
   ]
  },
  {
   "cell_type": "code",
   "execution_count": 176,
   "metadata": {},
   "outputs": [
    {
     "name": "stderr",
     "output_type": "stream",
     "text": [
      "/Library/Frameworks/Python.framework/Versions/3.7/lib/python3.7/site-packages/IPython/core/interactiveshell.py:3051: DtypeWarning: Columns (0) have mixed types. Specify dtype option on import or set low_memory=False.\n",
      "  interactivity=interactivity, compiler=compiler, result=result)\n"
     ]
    },
    {
     "name": "stdout",
     "output_type": "stream",
     "text": [
      "The training set has 1086 observations\n",
      "The test set has 1085240 observations\n"
     ]
    }
   ],
   "source": [
    "#Import the data\n",
    "my_data = pd.read_csv('kuzushiji_raw.csv')\n",
    "\n",
    "#Convert the unicode labels to integers so we can use them with our classifier\n",
    "labels = my_data['Unicode']\n",
    "labels = labels.values.tolist()\n",
    "label_encoder = LabelEncoder()\n",
    "Y = np.array(label_encoder.fit_transform(labels))\n",
    "\n",
    "#Create a training and testing set\n",
    "x_train, x_test, y_train, y_test = train_test_split(my_data['File'], Y,random_state=42,train_size=0.001)\n",
    "\n",
    "\n",
    "#Convert the pandas series to lists\n",
    "x_train = x_train.tolist()\n",
    "y_train = y_train.tolist()\n",
    "x_val = x_val.tolist()\n",
    "y_val = y_val.tolist()\n",
    "\n",
    "#Examine the size of each set\n",
    "print(\"The training set has \"+ str(len(x_train))+\" observations\")\n",
    "#print(\"The validation set has \"+ str(len(x_val))+\" observations\")\n",
    "print(\"The test set has \"+ str(len(x_test))+\" observations\")"
   ]
  },
  {
   "cell_type": "markdown",
   "metadata": {},
   "source": [
    "At the moment, the training, test, and validation sets only contain lists of file names rather than the images themselves"
   ]
  },
  {
   "cell_type": "code",
   "execution_count": 177,
   "metadata": {},
   "outputs": [
    {
     "name": "stdout",
     "output_type": "stream",
     "text": [
      "./all/100249371/characters/U+308A/U+308A_100249371_00010_1_X0849_Y0728.jpg\n",
      "./all/200019865/characters/U+30CF/U+30CF_200019865_00077_2_X0838_Y2054.jpg\n"
     ]
    }
   ],
   "source": [
    "print(x_train[3])\n",
    "#print(x_val[33])\n",
    "print(x_test[333])"
   ]
  },
  {
   "cell_type": "markdown",
   "metadata": {},
   "source": [
    "# Examining the Images"
   ]
  },
  {
   "cell_type": "markdown",
   "metadata": {},
   "source": [
    "The Kuzushiji data set consists of both full pages from the books, as well as images of the individual characters on each page. Here is a sample image of a full page."
   ]
  },
  {
   "cell_type": "code",
   "execution_count": 178,
   "metadata": {},
   "outputs": [
    {
     "ename": "NameError",
     "evalue": "name 'Path' is not defined",
     "output_type": "error",
     "traceback": [
      "\u001b[0;31m---------------------------------------------------------------------------\u001b[0m",
      "\u001b[0;31mNameError\u001b[0m                                 Traceback (most recent call last)",
      "\u001b[0;32m<ipython-input-178-91d3ddfdfabd>\u001b[0m in \u001b[0;36m<module>\u001b[0;34m\u001b[0m\n\u001b[1;32m      1\u001b[0m \u001b[0;31m#Load a sample image and store the file's stem\u001b[0m\u001b[0;34m\u001b[0m\u001b[0;34m\u001b[0m\u001b[0;34m\u001b[0m\u001b[0m\n\u001b[0;32m----> 2\u001b[0;31m \u001b[0mfile\u001b[0m \u001b[0;34m=\u001b[0m \u001b[0mPath\u001b[0m\u001b[0;34m(\u001b[0m\u001b[0;34m\"all/100241706/images/100241706_00004_2.jpg\"\u001b[0m\u001b[0;34m)\u001b[0m\u001b[0;34m\u001b[0m\u001b[0;34m\u001b[0m\u001b[0m\n\u001b[0m\u001b[1;32m      3\u001b[0m \u001b[0mstem\u001b[0m \u001b[0;34m=\u001b[0m \u001b[0mPath\u001b[0m\u001b[0;34m(\u001b[0m\u001b[0;34m\"all/100241706/images/100241706_00004_2.jpg\"\u001b[0m\u001b[0;34m)\u001b[0m\u001b[0;34m.\u001b[0m\u001b[0mstem\u001b[0m\u001b[0;34m\u001b[0m\u001b[0;34m\u001b[0m\u001b[0m\n\u001b[1;32m      4\u001b[0m \u001b[0;34m\u001b[0m\u001b[0m\n\u001b[1;32m      5\u001b[0m \u001b[0mimg\u001b[0m \u001b[0;34m=\u001b[0m \u001b[0mplt\u001b[0m\u001b[0;34m.\u001b[0m\u001b[0mimread\u001b[0m\u001b[0;34m(\u001b[0m\u001b[0mfile\u001b[0m\u001b[0;34m)\u001b[0m\u001b[0;34m\u001b[0m\u001b[0;34m\u001b[0m\u001b[0m\n",
      "\u001b[0;31mNameError\u001b[0m: name 'Path' is not defined"
     ]
    }
   ],
   "source": [
    "#Load a sample image and store the file's stem\n",
    "file = Path(\"all/100241706/images/100241706_00004_2.jpg\")\n",
    "stem = Path(\"all/100241706/images/100241706_00004_2.jpg\").stem\n",
    "\n",
    "img = plt.imread(file)\n",
    "show_image(img)"
   ]
  },
  {
   "cell_type": "markdown",
   "metadata": {},
   "source": [
    "However, we will be using the images of the individual characters for our classifier.\n",
    "\n",
    "In the next step, we will load the images using the file names we have stored. In order to use the images with neural networks, we will convert them from RGB into grayscale and resize them so they are all the same size (in this case 224 by 224 pixels)."
   ]
  },
  {
   "cell_type": "code",
   "execution_count": 179,
   "metadata": {},
   "outputs": [],
   "source": [
    "img_size = 224\n",
    "\n",
    "#Load all of the images, convert them to grayscale and resize them all to 224 by 224.\n",
    "x_train = process_images(x_train,img_size)\n",
    "#x_val = process_images(x_val,img_size)\n"
   ]
  },
  {
   "cell_type": "markdown",
   "metadata": {},
   "source": [
    "Here is a sample image from the original file source and a sample image after it has been processed"
   ]
  },
  {
   "cell_type": "code",
   "execution_count": 180,
   "metadata": {},
   "outputs": [
    {
     "data": {
      "image/png": "[encoded data removed]",
      "text/plain": [
       "<Figure size 432x288 with 1 Axes>"
      ]
     },
     "metadata": {
      "needs_background": "light"
     },
     "output_type": "display_data"
    },
    {
     "data": {
      "image/png": "[encoded data removed]",
      "text/plain": [
       "<Figure size 432x288 with 1 Axes>"
      ]
     },
     "metadata": {
      "needs_background": "light"
     },
     "output_type": "display_data"
    }
   ],
   "source": [
    "sample_image = my_data['File'][4]\n",
    "show_image(plt.imread(sample_image),'Sample image before processing')\n",
    "show_image(x_train[100],'Sample image after processing')\n",
    "\n",
    "x_train = np.expand_dims(x_train, -1)\n"
   ]
  },
  {
   "cell_type": "code",
   "execution_count": 103,
   "metadata": {},
   "outputs": [
    {
     "data": {
      "text/plain": [
       "814"
      ]
     },
     "execution_count": 103,
     "metadata": {},
     "output_type": "execute_result"
    }
   ],
   "source": [
    "\n",
    "datagen = ImageDataGenerator(\n",
    " rotation_range=40,\n",
    " width_shift_range=0.2,\n",
    " height_shift_range=0.2,\n",
    " shear_range=0.2,\n",
    " zoom_range=0.2,\n",
    " horizontal_flip=False)\n",
    "\n",
    "d = datagen.fit(x_train)\n",
    "x_train.shape[0]\n"
   ]
  },
  {
   "cell_type": "code",
   "execution_count": 181,
   "metadata": {},
   "outputs": [],
   "source": [
    "smote = SMOTE(random_state=42)\n",
    "\n",
    "x_smote = x_train.reshape((x_train.shape[0],x_train.shape[1]*x_train.shape[2]))\n",
    "\n",
    "#x_smote, y_smote = smote.fit_resample(x_smote, y_train)\n",
    "#x_train_"
   ]
  },
  {
   "cell_type": "code",
   "execution_count": 182,
   "metadata": {},
   "outputs": [],
   "source": [
    "y_train = np.array(y_train)"
   ]
  },
  {
   "cell_type": "code",
   "execution_count": 185,
   "metadata": {},
   "outputs": [],
   "source": [
    "unique, counts = np.unique(y_train, return_counts=True)\n",
    "count = dict(zip(unique, counts))\n"
   ]
  },
  {
   "cell_type": "code",
   "execution_count": 186,
   "metadata": {},
   "outputs": [],
   "source": [
    "oversample = RandomOverSampler()\n",
    "x_over, y_over = oversample.fit_resample(x_smote, y_train)"
   ]
  },
  {
   "cell_type": "code",
   "execution_count": 187,
   "metadata": {},
   "outputs": [
    {
     "data": {
      "text/plain": [
       "{0: 49,\n",
       " 28: 49,\n",
       " 45: 49,\n",
       " 51: 49,\n",
       " 52: 49,\n",
       " 53: 49,\n",
       " 54: 49,\n",
       " 55: 49,\n",
       " 56: 49,\n",
       " 57: 49,\n",
       " 58: 49,\n",
       " 59: 49,\n",
       " 60: 49,\n",
       " 61: 49,\n",
       " 62: 49,\n",
       " 63: 49,\n",
       " 64: 49,\n",
       " 66: 49,\n",
       " 67: 49,\n",
       " 68: 49,\n",
       " 69: 49,\n",
       " 70: 49,\n",
       " 71: 49,\n",
       " 72: 49,\n",
       " 74: 49,\n",
       " 75: 49,\n",
       " 76: 49,\n",
       " 77: 49,\n",
       " 78: 49,\n",
       " 79: 49,\n",
       " 81: 49,\n",
       " 82: 49,\n",
       " 83: 49,\n",
       " 84: 49,\n",
       " 85: 49,\n",
       " 86: 49,\n",
       " 87: 49,\n",
       " 88: 49,\n",
       " 89: 49,\n",
       " 90: 49,\n",
       " 91: 49,\n",
       " 92: 49,\n",
       " 93: 49,\n",
       " 95: 49,\n",
       " 98: 49,\n",
       " 99: 49,\n",
       " 101: 49,\n",
       " 102: 49,\n",
       " 104: 49,\n",
       " 105: 49,\n",
       " 107: 49,\n",
       " 108: 49,\n",
       " 109: 49,\n",
       " 110: 49,\n",
       " 111: 49,\n",
       " 113: 49,\n",
       " 115: 49,\n",
       " 117: 49,\n",
       " 118: 49,\n",
       " 119: 49,\n",
       " 120: 49,\n",
       " 121: 49,\n",
       " 122: 49,\n",
       " 123: 49,\n",
       " 124: 49,\n",
       " 125: 49,\n",
       " 126: 49,\n",
       " 127: 49,\n",
       " 128: 49,\n",
       " 132: 49,\n",
       " 134: 49,\n",
       " 135: 49,\n",
       " 146: 49,\n",
       " 148: 49,\n",
       " 173: 49,\n",
       " 189: 49,\n",
       " 192: 49,\n",
       " 193: 49,\n",
       " 202: 49,\n",
       " 205: 49,\n",
       " 219: 49,\n",
       " 246: 49,\n",
       " 248: 49,\n",
       " 251: 49,\n",
       " 252: 49,\n",
       " 253: 49,\n",
       " 258: 49,\n",
       " 266: 49,\n",
       " 269: 49,\n",
       " 270: 49,\n",
       " 284: 49,\n",
       " 287: 49,\n",
       " 289: 49,\n",
       " 292: 49,\n",
       " 293: 49,\n",
       " 298: 49,\n",
       " 308: 49,\n",
       " 311: 49,\n",
       " 316: 49,\n",
       " 317: 49,\n",
       " 321: 49,\n",
       " 324: 49,\n",
       " 341: 49,\n",
       " 358: 49,\n",
       " 368: 49,\n",
       " 369: 49,\n",
       " 379: 49,\n",
       " 406: 49,\n",
       " 411: 49,\n",
       " 428: 49,\n",
       " 456: 49,\n",
       " 466: 49,\n",
       " 486: 49,\n",
       " 487: 49,\n",
       " 488: 49,\n",
       " 489: 49,\n",
       " 492: 49,\n",
       " 514: 49,\n",
       " 520: 49,\n",
       " 534: 49,\n",
       " 535: 49,\n",
       " 557: 49,\n",
       " 604: 49,\n",
       " 614: 49,\n",
       " 627: 49,\n",
       " 641: 49,\n",
       " 649: 49,\n",
       " 657: 49,\n",
       " 675: 49,\n",
       " 676: 49,\n",
       " 679: 49,\n",
       " 680: 49,\n",
       " 706: 49,\n",
       " 708: 49,\n",
       " 710: 49,\n",
       " 715: 49,\n",
       " 744: 49,\n",
       " 754: 49,\n",
       " 811: 49,\n",
       " 812: 49,\n",
       " 819: 49,\n",
       " 825: 49,\n",
       " 890: 49,\n",
       " 895: 49,\n",
       " 900: 49,\n",
       " 903: 49,\n",
       " 904: 49,\n",
       " 926: 49,\n",
       " 953: 49,\n",
       " 986: 49,\n",
       " 1002: 49,\n",
       " 1017: 49,\n",
       " 1020: 49,\n",
       " 1034: 49,\n",
       " 1044: 49,\n",
       " 1057: 49,\n",
       " 1071: 49,\n",
       " 1081: 49,\n",
       " 1082: 49,\n",
       " 1103: 49,\n",
       " 1131: 49,\n",
       " 1147: 49,\n",
       " 1148: 49,\n",
       " 1172: 49,\n",
       " 1174: 49,\n",
       " 1177: 49,\n",
       " 1180: 49,\n",
       " 1191: 49,\n",
       " 1202: 49,\n",
       " 1209: 49,\n",
       " 1212: 49,\n",
       " 1258: 49,\n",
       " 1270: 49,\n",
       " 1288: 49,\n",
       " 1296: 49,\n",
       " 1305: 49,\n",
       " 1316: 49,\n",
       " 1327: 49,\n",
       " 1337: 49,\n",
       " 1340: 49,\n",
       " 1352: 49,\n",
       " 1356: 49,\n",
       " 1382: 49,\n",
       " 1419: 49,\n",
       " 1422: 49,\n",
       " 1429: 49,\n",
       " 1430: 49,\n",
       " 1442: 49,\n",
       " 1446: 49,\n",
       " 1451: 49,\n",
       " 1452: 49,\n",
       " 1612: 49,\n",
       " 1619: 49,\n",
       " 1629: 49,\n",
       " 1644: 49,\n",
       " 1645: 49,\n",
       " 1655: 49,\n",
       " 1656: 49,\n",
       " 1669: 49,\n",
       " 1672: 49,\n",
       " 1676: 49,\n",
       " 1678: 49,\n",
       " 1710: 49,\n",
       " 1712: 49,\n",
       " 1716: 49,\n",
       " 1720: 49,\n",
       " 1722: 49,\n",
       " 1731: 49,\n",
       " 1760: 49,\n",
       " 1766: 49,\n",
       " 1786: 49,\n",
       " 1831: 49,\n",
       " 1887: 49,\n",
       " 1889: 49,\n",
       " 1908: 49,\n",
       " 1950: 49,\n",
       " 1966: 49,\n",
       " 1980: 49,\n",
       " 1985: 49,\n",
       " 2003: 49,\n",
       " 2007: 49,\n",
       " 2025: 49,\n",
       " 2029: 49,\n",
       " 2042: 49,\n",
       " 2092: 49,\n",
       " 2113: 49,\n",
       " 2128: 49,\n",
       " 2146: 49,\n",
       " 2166: 49,\n",
       " 2177: 49,\n",
       " 2187: 49,\n",
       " 2215: 49,\n",
       " 2218: 49,\n",
       " 2233: 49,\n",
       " 2250: 49,\n",
       " 2264: 49,\n",
       " 2269: 49,\n",
       " 2279: 49,\n",
       " 2293: 49,\n",
       " 2303: 49,\n",
       " 2317: 49,\n",
       " 2318: 49,\n",
       " 2328: 49,\n",
       " 2329: 49,\n",
       " 2342: 49,\n",
       " 2355: 49,\n",
       " 2363: 49,\n",
       " 2366: 49,\n",
       " 2368: 49,\n",
       " 2369: 49,\n",
       " 2390: 49,\n",
       " 2437: 49,\n",
       " 2441: 49,\n",
       " 2444: 49,\n",
       " 2446: 49,\n",
       " 2463: 49,\n",
       " 2474: 49,\n",
       " 2507: 49,\n",
       " 2545: 49,\n",
       " 2548: 49,\n",
       " 2604: 49,\n",
       " 2625: 49,\n",
       " 2719: 49,\n",
       " 2739: 49,\n",
       " 2755: 49,\n",
       " 2758: 49,\n",
       " 2783: 49,\n",
       " 2789: 49,\n",
       " 2791: 49,\n",
       " 2806: 49,\n",
       " 2864: 49,\n",
       " 2892: 49,\n",
       " 2908: 49,\n",
       " 2936: 49,\n",
       " 2943: 49,\n",
       " 2967: 49,\n",
       " 2987: 49,\n",
       " 3006: 49,\n",
       " 3021: 49,\n",
       " 3059: 49,\n",
       " 3072: 49,\n",
       " 3125: 49,\n",
       " 3157: 49,\n",
       " 3353: 49,\n",
       " 3378: 49,\n",
       " 3402: 49,\n",
       " 3406: 49,\n",
       " 3429: 49,\n",
       " 3431: 49,\n",
       " 3440: 49,\n",
       " 3464: 49,\n",
       " 3468: 49,\n",
       " 3490: 49,\n",
       " 3520: 49,\n",
       " 3568: 49,\n",
       " 3593: 49,\n",
       " 3595: 49,\n",
       " 3613: 49,\n",
       " 3627: 49,\n",
       " 3656: 49,\n",
       " 3672: 49,\n",
       " 3714: 49,\n",
       " 3742: 49,\n",
       " 3748: 49,\n",
       " 3756: 49,\n",
       " 3759: 49,\n",
       " 3805: 49,\n",
       " 3807: 49,\n",
       " 3826: 49,\n",
       " 3863: 49,\n",
       " 3864: 49,\n",
       " 3867: 49,\n",
       " 3874: 49,\n",
       " 3908: 49,\n",
       " 3942: 49,\n",
       " 3943: 49,\n",
       " 3944: 49,\n",
       " 3959: 49,\n",
       " 3989: 49,\n",
       " 3996: 49,\n",
       " 4008: 49,\n",
       " 4046: 49,\n",
       " 4126: 49,\n",
       " 4135: 49,\n",
       " 4156: 49,\n",
       " 4215: 49,\n",
       " 4274: 49}"
      ]
     },
     "execution_count": 187,
     "metadata": {},
     "output_type": "execute_result"
    }
   ],
   "source": [
    "unique, counts = np.unique(y_over, return_counts=True)\n",
    "counted = dict(zip(unique, counts))\n",
    "counted"
   ]
  },
  {
   "cell_type": "code",
   "execution_count": 188,
   "metadata": {},
   "outputs": [],
   "source": [
    "#Split the training set to create a validation set\n",
    "x_train, x_val, y_train, y_val = train_test_split(x_train, y_train, test_size=0.25, random_state=1) \n"
   ]
  },
  {
   "cell_type": "code",
   "execution_count": 189,
   "metadata": {},
   "outputs": [],
   "source": [
    "model = keras.models.Sequential()\n",
    "model.add(keras.layers.Flatten(input_shape=[224,224]))\n",
    "model.add(keras.layers.Dense(300,activation=\"relu\"))\n",
    "model.add(keras.layers.Dense(100,activation=\"relu\"))\n",
    "model.add(keras.layers.Dense(4328,activation=\"softmax\"))\n",
    "\n",
    "\n",
    "model.compile(optimizer = 'adam', loss = 'sparse_categorical_crossentropy', metrics = ['accuracy'])"
   ]
  },
  {
   "cell_type": "code",
   "execution_count": 190,
   "metadata": {},
   "outputs": [],
   "source": [
    "x_val, y_val = np.array(x_val), np.array(y_val)"
   ]
  },
  {
   "cell_type": "code",
   "execution_count": null,
   "metadata": {},
   "outputs": [
    {
     "name": "stdout",
     "output_type": "stream",
     "text": [
      "Epoch 1/30\n",
      "WARNING:tensorflow:Model was constructed with shape (None, 224, 224) for input Tensor(\"flatten_2_input:0\", shape=(None, 224, 224), dtype=float32), but it was called on an input with incompatible shape (None, 50176).\n",
      "WARNING:tensorflow:Model was constructed with shape (None, 224, 224) for input Tensor(\"flatten_2_input:0\", shape=(None, 224, 224), dtype=float32), but it was called on an input with incompatible shape (None, 50176).\n",
      "501/501 [==============================] - 70s 139ms/step - loss: 4.1932 - accuracy: 0.2561 - val_loss: 3.5164 - val_accuracy: 0.3051\n",
      "Epoch 2/30\n",
      "501/501 [==============================] - 69s 137ms/step - loss: 1.0052 - accuracy: 0.7847 - val_loss: 2.2798 - val_accuracy: 0.5294\n",
      "Epoch 3/30\n",
      "501/501 [==============================] - 66s 132ms/step - loss: 0.5426 - accuracy: 0.8769 - val_loss: 1.8312 - val_accuracy: 0.6176\n",
      "Epoch 4/30\n",
      "501/501 [==============================] - 59s 117ms/step - loss: 0.3869 - accuracy: 0.9071 - val_loss: 1.6678 - val_accuracy: 0.6213\n",
      "Epoch 5/30\n",
      "501/501 [==============================] - 51s 102ms/step - loss: 0.3359 - accuracy: 0.9171 - val_loss: 1.3629 - val_accuracy: 0.6949\n",
      "Epoch 6/30\n",
      "501/501 [==============================] - 48s 97ms/step - loss: 0.3036 - accuracy: 0.9254 - val_loss: 0.9175 - val_accuracy: 0.7500\n",
      "Epoch 7/30\n",
      "501/501 [==============================] - 48s 96ms/step - loss: 0.2432 - accuracy: 0.9380 - val_loss: 1.6640 - val_accuracy: 0.6581\n",
      "Epoch 8/30\n",
      "501/501 [==============================] - 45s 89ms/step - loss: 0.2817 - accuracy: 0.9289 - val_loss: 1.0667 - val_accuracy: 0.7647\n",
      "Epoch 9/30\n",
      "501/501 [==============================] - 56s 113ms/step - loss: 0.2877 - accuracy: 0.9291 - val_loss: 0.9280 - val_accuracy: 0.7647\n",
      "Epoch 10/30\n",
      "501/501 [==============================] - 56s 112ms/step - loss: 0.2139 - accuracy: 0.9454 - val_loss: 1.2196 - val_accuracy: 0.7096\n",
      "Epoch 11/30\n",
      "501/501 [==============================] - 50s 100ms/step - loss: 0.2269 - accuracy: 0.9426 - val_loss: 1.1809 - val_accuracy: 0.7169\n",
      "Epoch 12/30\n",
      "501/501 [==============================] - 49s 98ms/step - loss: 0.1875 - accuracy: 0.9528 - val_loss: 0.6425 - val_accuracy: 0.8382\n",
      "Epoch 13/30\n",
      "501/501 [==============================] - 49s 99ms/step - loss: 0.2494 - accuracy: 0.9398 - val_loss: 0.7420 - val_accuracy: 0.8088\n",
      "Epoch 14/30\n",
      "501/501 [==============================] - 63s 125ms/step - loss: 0.2091 - accuracy: 0.9468 - val_loss: 1.4521 - val_accuracy: 0.6912\n",
      "Epoch 15/30\n",
      "115/501 [=====>........................] - ETA: 52s - loss: 0.1460 - accuracy: 0.9592"
     ]
    }
   ],
   "source": [
    "model.fit(x_over,y_over,epochs=30, validation_data=(x_val,y_val))"
   ]
  },
  {
   "cell_type": "code",
   "execution_count": 167,
   "metadata": {},
   "outputs": [],
   "source": [
    "unique, counts = np.unique(y_val, return_counts=True)\n"
   ]
  },
  {
   "cell_type": "code",
   "execution_count": 168,
   "metadata": {},
   "outputs": [
    {
     "data": {
      "text/plain": [
       "array([ 1,  4,  3,  3,  2,  5,  3,  5,  1,  2,  4,  2,  2,  9,  1,  2,  1,\n",
       "        1,  5,  2,  6,  3,  2, 11,  9,  7, 10,  1, 10, 11,  4,  1,  3,  2,\n",
       "        2,  5,  1,  3,  6,  8,  8,  3,  1,  1,  5,  5,  2,  1,  1,  1,  2,\n",
       "        1,  2,  1,  1,  1,  2,  1,  1,  1,  1,  2,  1,  1,  1,  1,  1,  1,\n",
       "        1,  1,  1,  1,  1,  1,  1,  1,  2,  1,  1,  1,  1,  1,  1,  1,  1,\n",
       "        1,  1,  1,  1,  4,  1,  1,  1,  1,  1,  1,  1,  1,  1,  1,  1,  1,\n",
       "        1,  1,  1,  1,  1,  1,  1,  1,  1,  1,  1,  1,  1,  1,  1,  1,  1,\n",
       "        1,  1,  1,  1])"
      ]
     },
     "execution_count": 168,
     "metadata": {},
     "output_type": "execute_result"
    }
   ],
   "source": [
    "counts"
   ]
  },
  {
   "cell_type": "code",
   "execution_count": 169,
   "metadata": {},
   "outputs": [],
   "source": [
    "count = dict(zip(unique, counts))"
   ]
  },
  {
   "cell_type": "code",
   "execution_count": 173,
   "metadata": {},
   "outputs": [
    {
     "name": "stdout",
     "output_type": "stream",
     "text": [
      "1\n",
      "2\n",
      "3\n",
      "4\n",
      "5\n",
      "6\n",
      "7\n",
      "8\n",
      "9\n",
      "10\n",
      "11\n",
      "12\n",
      "13\n",
      "14\n",
      "15\n",
      "16\n",
      "17\n",
      "18\n",
      "19\n",
      "20\n",
      "21\n",
      "22\n",
      "23\n",
      "24\n",
      "25\n",
      "26\n",
      "27\n",
      "28\n",
      "29\n",
      "30\n",
      "31\n",
      "32\n",
      "33\n",
      "34\n",
      "35\n",
      "36\n",
      "37\n",
      "38\n",
      "39\n",
      "40\n",
      "41\n",
      "42\n",
      "43\n",
      "44\n",
      "45\n",
      "46\n",
      "47\n",
      "48\n",
      "49\n",
      "50\n",
      "51\n",
      "52\n",
      "53\n",
      "54\n",
      "55\n",
      "56\n",
      "57\n",
      "58\n",
      "59\n",
      "60\n",
      "61\n",
      "62\n",
      "63\n",
      "64\n",
      "65\n",
      "66\n",
      "67\n",
      "68\n",
      "69\n",
      "70\n",
      "71\n",
      "72\n",
      "73\n",
      "74\n",
      "75\n",
      "76\n",
      "77\n",
      "78\n",
      "79\n",
      "80\n"
     ]
    },
    {
     "data": {
      "text/plain": [
       "272"
      ]
     },
     "execution_count": 173,
     "metadata": {},
     "output_type": "execute_result"
    }
   ],
   "source": [
    "x = 0\n",
    "for key in count:\n",
    "    if count[key] ==1:\n",
    "        x +=1\n",
    "        print(x)\n",
    "        \n",
    "len(y_val)"
   ]
  },
  {
   "cell_type": "code",
   "execution_count": 174,
   "metadata": {},
   "outputs": [
    {
     "data": {
      "text/plain": [
       "0.29411764705882354"
      ]
     },
     "execution_count": 174,
     "metadata": {},
     "output_type": "execute_result"
    }
   ],
   "source": [
    "80/272"
   ]
  },
  {
   "cell_type": "code",
   "execution_count": null,
   "metadata": {},
   "outputs": [],
   "source": []
  }
 ],
 "metadata": {
  "kernelspec": {
   "display_name": "Python 3",
   "language": "python",
   "name": "python3"
  },
  "language_info": {
   "codemirror_mode": {
    "name": "ipython",
    "version": 3
   },
   "file_extension": ".py",
   "mimetype": "text/x-python",
   "name": "python",
   "nbconvert_exporter": "python",
   "pygments_lexer": "ipython3",
   "version": "3.7.1"
  }
 },
 "nbformat": 4,
 "nbformat_minor": 4
}
